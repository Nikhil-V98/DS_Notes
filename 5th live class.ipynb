{
 "cells": [
  {
   "cell_type": "code",
   "execution_count": 5,
   "id": "7bcc4c62",
   "metadata": {},
   "outputs": [
    {
     "name": "stdout",
     "output_type": "stream",
     "text": [
      "this is my first class\n",
      "this is my first class\n",
      "this is my first class\n",
      "this is my first class\n"
     ]
    }
   ],
   "source": [
    "print('this is my first class')\n",
    "print('this is my first class')\n",
    "print('this is my first class')\n",
    "print('this is my first class')"
   ]
  },
  {
   "cell_type": "markdown",
   "id": "af7a60bf",
   "metadata": {},
   "source": [
    "I'm learning MLDL"
   ]
  },
  {
   "cell_type": "code",
   "execution_count": 6,
   "id": "47209289",
   "metadata": {},
   "outputs": [
    {
     "data": {
      "text/plain": [
       "2"
      ]
     },
     "execution_count": 6,
     "metadata": {},
     "output_type": "execute_result"
    }
   ],
   "source": [
    "0+2"
   ]
  },
  {
   "cell_type": "code",
   "execution_count": 7,
   "id": "ffcd7853",
   "metadata": {},
   "outputs": [
    {
     "data": {
      "text/plain": [
       "9"
      ]
     },
     "execution_count": 7,
     "metadata": {},
     "output_type": "execute_result"
    }
   ],
   "source": [
    "3**2\n"
   ]
  },
  {
   "cell_type": "code",
   "execution_count": 8,
   "id": "a8f9852f",
   "metadata": {},
   "outputs": [
    {
     "data": {
      "text/plain": [
       "1"
      ]
     },
     "execution_count": 8,
     "metadata": {},
     "output_type": "execute_result"
    }
   ],
   "source": [
    "3//2"
   ]
  },
  {
   "cell_type": "code",
   "execution_count": 9,
   "id": "ecea34a3",
   "metadata": {},
   "outputs": [
    {
     "data": {
      "text/plain": [
       "1.5"
      ]
     },
     "execution_count": 9,
     "metadata": {},
     "output_type": "execute_result"
    }
   ],
   "source": [
    "3/2"
   ]
  },
  {
   "cell_type": "code",
   "execution_count": 12,
   "id": "bc53d931",
   "metadata": {},
   "outputs": [],
   "source": [
    "a=1.5"
   ]
  },
  {
   "cell_type": "code",
   "execution_count": 13,
   "id": "05f3d001",
   "metadata": {},
   "outputs": [],
   "source": [
    "b=3**3"
   ]
  },
  {
   "cell_type": "code",
   "execution_count": 14,
   "id": "4fc86270",
   "metadata": {},
   "outputs": [
    {
     "data": {
      "text/plain": [
       "27"
      ]
     },
     "execution_count": 14,
     "metadata": {},
     "output_type": "execute_result"
    }
   ],
   "source": [
    "b"
   ]
  },
  {
   "cell_type": "code",
   "execution_count": 15,
   "id": "a7fb1b49",
   "metadata": {},
   "outputs": [],
   "source": [
    "nik = 'asfrjhk'"
   ]
  },
  {
   "cell_type": "code",
   "execution_count": 16,
   "id": "0ded268f",
   "metadata": {},
   "outputs": [
    {
     "data": {
      "text/plain": [
       "'asfrjhk'"
      ]
     },
     "execution_count": 16,
     "metadata": {},
     "output_type": "execute_result"
    }
   ],
   "source": [
    "nik"
   ]
  },
  {
   "cell_type": "code",
   "execution_count": 17,
   "id": "22893b55",
   "metadata": {},
   "outputs": [
    {
     "data": {
      "text/plain": [
       "str"
      ]
     },
     "execution_count": 17,
     "metadata": {},
     "output_type": "execute_result"
    }
   ],
   "source": [
    "type(nik)"
   ]
  },
  {
   "cell_type": "code",
   "execution_count": 18,
   "id": "b9d3401a",
   "metadata": {},
   "outputs": [
    {
     "data": {
      "text/plain": [
       "float"
      ]
     },
     "execution_count": 18,
     "metadata": {},
     "output_type": "execute_result"
    }
   ],
   "source": [
    "type(a\n",
    ")"
   ]
  },
  {
   "cell_type": "code",
   "execution_count": 19,
   "id": "7d59a489",
   "metadata": {},
   "outputs": [],
   "source": [
    "a1 = 5+3j"
   ]
  },
  {
   "cell_type": "code",
   "execution_count": 20,
   "id": "3fbab449",
   "metadata": {},
   "outputs": [
    {
     "data": {
      "text/plain": [
       "complex"
      ]
     },
     "execution_count": 20,
     "metadata": {},
     "output_type": "execute_result"
    }
   ],
   "source": [
    "type(a1)"
   ]
  },
  {
   "cell_type": "code",
   "execution_count": 21,
   "id": "e93d9ba3",
   "metadata": {},
   "outputs": [
    {
     "data": {
      "text/plain": [
       "int"
      ]
     },
     "execution_count": 21,
     "metadata": {},
     "output_type": "execute_result"
    }
   ],
   "source": [
    "type(b)"
   ]
  },
  {
   "cell_type": "code",
   "execution_count": 23,
   "id": "a861fe02",
   "metadata": {},
   "outputs": [
    {
     "name": "stdout",
     "output_type": "stream",
     "text": [
      "fgkasjd\n"
     ]
    }
   ],
   "source": [
    "print(\"fgkasjd\")"
   ]
  },
  {
   "cell_type": "code",
   "execution_count": 24,
   "id": "a0178c11",
   "metadata": {},
   "outputs": [],
   "source": [
    "def test():\n",
    "    \"\"\"this is my function to show demo for docstring\"\"\"\n",
    "    return True"
   ]
  },
  {
   "cell_type": "code",
   "execution_count": 25,
   "id": "d2d70250",
   "metadata": {},
   "outputs": [
    {
     "data": {
      "text/plain": [
       "True"
      ]
     },
     "execution_count": 25,
     "metadata": {},
     "output_type": "execute_result"
    }
   ],
   "source": [
    "test()"
   ]
  },
  {
   "cell_type": "code",
   "execution_count": 2,
   "id": "80876482",
   "metadata": {},
   "outputs": [
    {
     "name": "stdout",
     "output_type": "stream",
     "text": [
      "Nikhil\n"
     ]
    }
   ],
   "source": [
    "print('Nikhil')"
   ]
  },
  {
   "cell_type": "markdown",
   "id": "31542988",
   "metadata": {},
   "source": [
    "My Name is Nikhil"
   ]
  },
  {
   "cell_type": "code",
   "execution_count": null,
   "id": "03c83796",
   "metadata": {},
   "outputs": [],
   "source": [
    "33333333333333333333333333333333333333333333333333333333333333333333333333333333333333333333333333333333333333333333333333333333"
   ]
  },
  {
   "cell_type": "code",
   "execution_count": null,
   "id": "941410aa",
   "metadata": {},
   "outputs": [],
   "source": []
  }
 ],
 "metadata": {
  "kernelspec": {
   "display_name": "Python 3",
   "language": "python",
   "name": "python3"
  },
  "language_info": {
   "codemirror_mode": {
    "name": "ipython",
    "version": 3
   },
   "file_extension": ".py",
   "mimetype": "text/x-python",
   "name": "python",
   "nbconvert_exporter": "python",
   "pygments_lexer": "ipython3",
   "version": "3.8.8"
  }
 },
 "nbformat": 4,
 "nbformat_minor": 5
}
