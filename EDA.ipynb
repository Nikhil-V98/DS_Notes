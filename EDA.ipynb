{
 "cells": [
  {
   "cell_type": "markdown",
   "metadata": {},
   "source": [
    "### Imp Library"
   ]
  },
  {
   "cell_type": "code",
   "execution_count": 1,
   "metadata": {},
   "outputs": [],
   "source": [
    "# Library Import\n",
    "import pandas as pd\n",
    "import numpy as np\n",
    "\n",
    "# for visualization purpose\n",
    "import matplotlib.pyplot as plt\n",
    "import seaborn as sns \n",
    "\n",
    "from sklearn.model_selection import train_test_split\n",
    "\n",
    "# magic function is to enable the inline plotting\n",
    "%matplotlib inline \n",
    "\n",
    "import warnings\n",
    "warnings.filterwarnings('ignore')\n",
    "\n",
    "# for display all the column in the datafarmes\n",
    "pd.pandas.set_option('display.max_columns',None)\n",
    "\n",
    "#Read Data\n",
    "df= pd.read_csv(\"train_EDA.csv\")"
   ]
  },
  {
   "cell_type": "markdown",
   "metadata": {},
   "source": [
    "# EDA"
   ]
  },
  {
   "cell_type": "markdown",
   "metadata": {},
   "source": [
    "#### In data analysis we will analyzie to find below stuff\n",
    "\n",
    "1. Missing value\n",
    "2. All the numerical variables\n",
    "3. Distrubution of the numarical variable\n",
    "4. Catagorical variables\n",
    "5. Outliers\n",
    "6. Relationship b/w independent and dependent features\n",
    "7. Correlations"
   ]
  },
  {
   "cell_type": "markdown",
   "metadata": {},
   "source": [
    "#### Below code used to create plt which show's relation between missing value and target varibales \n",
    "- It will group missing and non-missing value and gives mean/median/ mode value of tat group \n",
    "- Based on this we can see if the missing value is important or not"
   ]
  },
  {
   "cell_type": "code",
   "execution_count": null,
   "metadata": {},
   "outputs": [],
   "source": [
    "features_with_na = [features for features in df.columns if df[features].isnull().sum()>=1]\n",
    "\n",
    "## plot diagram\n",
    "data = df.copy()\n",
    "for feature in features_with_na:\n",
    "    \n",
    "    # lets a make variable that indicate 1 if the observaation is missing or 0 otherwise\n",
    "    data[feature] = np.where(data[feature].isnull(),1,0)\n",
    "    \n",
    "    # Lets calculate the mean SalePrice where the information is missing or present\n",
    "    data.groupby(feature)['SalePrice'].median().plot.bar()\n",
    "    plt.title(feature)\n",
    "    plt.show()\n",
    "\n",
    "\"\"\"if the median of missing value is high then we can conclude that thier is some coonction \n",
    "between missing and target and we can't directly replace nan with mode or median\"\"\""
   ]
  },
  {
   "cell_type": "markdown",
   "metadata": {},
   "source": [
    "### EDA for Numerical feature\n",
    "##### Time or Year Feature vs Target varible plot"
   ]
  },
  {
   "cell_type": "code",
   "execution_count": null,
   "metadata": {},
   "outputs": [],
   "source": [
    "numerical_features=[feature for feature in df.columns if df[feature].dtypes!='O']\n",
    "## Temperal variables(Eg: Datetime Variables)\n",
    "Year_Feature = [feature for feature in numerical_features if \"Yr\" in feature or 'Year' in feature]"
   ]
  },
  {
   "cell_type": "code",
   "execution_count": null,
   "metadata": {},
   "outputs": [],
   "source": [
    "# Plot which shows salesprice by group by year \n",
    "df.groupby('YrSold')['SalePrice'].median().plot()\n",
    "plt.xlabel('Year Sold')\n",
    "plt.ylabel('Median House Price')\n",
    "plt.title(\"House Price vs Year Sold\")"
   ]
  },
  {
   "cell_type": "code",
   "execution_count": null,
   "metadata": {},
   "outputs": [],
   "source": [
    "### Here we will compare the difference between all years features with Salesprice\n",
    "data=df.copy()\n",
    "for feature in Year_Feature:\n",
    "    if feature!='YrSold':\n",
    "        data[feature]=data['YrSold']-data[feature]\n",
    "        \n",
    "        plt.scatter(data[feature],data['SalePrice'])\n",
    "        plt.xlabel(feature)\n",
    "        plt.ylabel('SalePrice')\n",
    "        plt.show()\n",
    "\n",
    "# Observations:\n",
    "\"\"\"Within all the the yearwise information, it is clearly visible that \n",
    "the the New houses are more costlier that the older one. looks like a \n",
    "pareto or power law distribution\"\"\""
   ]
  },
  {
   "cell_type": "markdown",
   "metadata": {},
   "source": [
    "##### Numerical variables- 2 Types\n",
    "- Continuous variable and Discrete variable\n",
    "##### Lets find the relationship between Discrete and target_feature"
   ]
  },
  {
   "cell_type": "code",
   "execution_count": null,
   "metadata": {},
   "outputs": [],
   "source": [
    "# Discrete Variable\n",
    "dataset = df.copy()\n",
    "discrete_feature=[feature for feature in numerical_features if len(df[feature].unique())<=25]\n",
    "\n",
    "## Lets find the relationship between Discrete and Sales Price\n",
    "data=dataset.copy()\n",
    "for feature in discrete_feature:\n",
    "    data.groupby(feature)['SalePrice'].median().plot.bar()\n",
    "    plt.xlabel(feature)\n",
    "    plt.ylabel('SalePrice')\n",
    "    plt.title(feature)\n",
    "    plt.show()"
   ]
  },
  {
   "cell_type": "markdown",
   "metadata": {},
   "source": [
    "##### Lets find the relationship between Continuous and target_feature (Distrubution of Continuous Features)"
   ]
  },
  {
   "cell_type": "code",
   "execution_count": null,
   "metadata": {},
   "outputs": [],
   "source": [
    "## Continuous Variable\n",
    "continuous_feature=[feature for feature in numerical_features if feature not in discrete_feature+Year_Feature]\n",
    "\n",
    "\"\"\"## Lets find the relationship between continuous and target_feature\n",
    "data = dataset.copy()\n",
    "for feature in continuous_feature:\n",
    "    data.groupby(feature)['SalePrice'].median().plot.hist()\n",
    "    plt.xlabel(feature)\n",
    "    plt.ylabel('SalePrice')\n",
    "    plt.title(feature)\n",
    "    plt.show()\"\"\"\n",
    "\n",
    "### Lets analyze the continous values by creating histograms to understand the distribution\n",
    "data=dataset.copy()\n",
    "for feature in continuous_feature:\n",
    "    data[feature].hist(bins=25)\n",
    "    # sns.histplot(dataset['SalePrice'],kde=True)\n",
    "    plt.xlabel(feature)\n",
    "    plt.ylabel(\"Count\")\n",
    "    plt.title(feature)\n",
    "    plt.show()"
   ]
  },
  {
   "cell_type": "code",
   "execution_count": null,
   "metadata": {},
   "outputs": [],
   "source": [
    "## Distribution plot with logarithmic transformation\n",
    "data=dataset.copy()\n",
    "for feature in continuous_feature:\n",
    "    if 0 in data[feature].unique():\n",
    "        pass\n",
    "    else:\n",
    "        data[feature]=np.log(data[feature])\n",
    "        plt.scatter(data[feature],data['SalePrice'])\n",
    "        plt.xlabel(feature)\n",
    "        plt.ylabel('SalesPrice')\n",
    "        plt.title(feature)\n",
    "        plt.show()"
   ]
  },
  {
   "cell_type": "markdown",
   "metadata": {},
   "source": [
    "#### Outlier"
   ]
  },
  {
   "cell_type": "code",
   "execution_count": null,
   "metadata": {},
   "outputs": [],
   "source": [
    "## Outliers \n",
    "for feature in continuous_feature:\n",
    "    if 0 in data[feature].unique():\n",
    "        pass\n",
    "    else:\n",
    "        data[feature]=np.log(data[feature])\n",
    "        data.boxplot(column=feature)\n",
    "        plt.ylabel(feature)\n",
    "        plt.title(feature)\n",
    "        plt.show()"
   ]
  },
  {
   "cell_type": "markdown",
   "metadata": {},
   "source": [
    "### EDA for Categorical feature"
   ]
  },
  {
   "cell_type": "code",
   "execution_count": null,
   "metadata": {},
   "outputs": [],
   "source": [
    "## find the relationship between categorical feature and Salesprice\n",
    "\n",
    "categorical_features=[feature for feature in dataset.columns if dataset[feature].dtypes=='O']\n",
    "\n",
    "data=dataset.copy()\n",
    "for feature in categorical_features:\n",
    "    data.groupby(feature)['SalePrice'].median().plot.bar()\n",
    "    plt.xlabel(feature)\n",
    "    plt.ylabel('SalePrice')\n",
    "    plt.title(feature)\n",
    "    plt.show()"
   ]
  },
  {
   "cell_type": "markdown",
   "metadata": {},
   "source": [
    "# Basic Plot's Commands "
   ]
  },
  {
   "cell_type": "code",
   "execution_count": null,
   "metadata": {},
   "outputs": [],
   "source": [
    "# Basic commands\n",
    "\n",
    "# To print the available plot style\n",
    "print(plt.style.available) \n",
    "\n",
    "# TO set Plot theme\n",
    "sns.set_theme(style = \"darkgrid\", palette = \"YlGnBu_r\") \n",
    "\n",
    "# Save Plot to PNG\n",
    "plt.savefig('plot.png')"
   ]
  },
  {
   "cell_type": "markdown",
   "metadata": {},
   "source": [
    "### Basic Plot"
   ]
  },
  {
   "cell_type": "code",
   "execution_count": null,
   "metadata": {},
   "outputs": [],
   "source": [
    "plt.plot(x, y1, color = '#444444', label = 'y1 Feature Name') # X for feature name y1 for target label for labeling for the legend \n",
    "plt.plot(x, y2, color= '#5a7d9a', label = 'y2 Feature name') # X for feature name y2 for target label for labeling for the legend \n",
    "\n",
    "plt.fill_between(x,y1,alpha=0.25) # To fill area under line (line:x,y1)\n",
    "\n",
    "plt.legend() # To give legend for plot\n",
    "\n",
    "plt.title('Title name') # Title for plot\n",
    "plt.ylabel('Target name') # Y axis label\n",
    "plt.xlabel('feature name') # X axis Label \n",
    "\n",
    "plt.grid(True) # To Apply grid\n",
    "plt.tight_layout() # To auto adjust layout\n",
    "\n",
    "plt.show() # To show or print plot"
   ]
  },
  {
   "cell_type": "markdown",
   "metadata": {},
   "source": [
    "### Vertical bar plot"
   ]
  },
  {
   "cell_type": "code",
   "execution_count": null,
   "metadata": {},
   "outputs": [],
   "source": [
    "# For side by side by bar plot\n",
    "\n",
    "# To divide bar of each column by width\n",
    "x_indexes = np.arange(len(x_feature))\n",
    "width = 0.25 \n",
    "\n",
    "plt.bar(x_indexes - width, y1, width=width,color = '#444444', label = 'y1 Feature Name') # If side by side plot not needed then replace 'x_indexes - width' with 'x_feature'\n",
    "plt.bar(x_indexes, y2,width=width,color= '#5a7d9a', label = 'y2 Feature name') \n",
    "plt.bar(x_indexes + width, y2, width=width, color= '#e5ae38', label = 'y2 Feature name')\n",
    "\n",
    "plt.legend() # To give legend for plot\n",
    "\n",
    "plt.xticks(ticks=x_indexes,labels= x_feature) # To replace X values\n",
    "\n",
    "plt.title('Title name') # Title for plot\n",
    "plt.ylabel('Target name') # Y axis label\n",
    "plt.xlabel('feature name') # X axis Label \n",
    "\n",
    "plt.grid(True) # To Apply grid\n",
    "plt.tight_layout() # To auto adjust layout\n",
    "\n",
    "plt.show() # To show or print plot"
   ]
  },
  {
   "cell_type": "markdown",
   "metadata": {},
   "source": [
    "### Horizontal bar plot"
   ]
  },
  {
   "cell_type": "code",
   "execution_count": null,
   "metadata": {},
   "outputs": [],
   "source": [
    "# Similar to vertical only chnaging \".bar\" to \".barh\"\n",
    "\n",
    "plt.barh(x, y, label = 'y1 Feature Name') \n",
    "\n",
    "plt.legend() # To give legend for plot\n",
    "\n",
    "plt.title('Title name') # Title for plot\n",
    "plt.ylabel('Target name') # Y axis label\n",
    "plt.xlabel('feature name') # X axis Label \n",
    "\n",
    "plt.grid(True) # To Apply grid\n",
    "plt.tight_layout() # To auto adjust layout\n",
    "\n",
    "plt.show() # To show or print plot"
   ]
  },
  {
   "cell_type": "markdown",
   "metadata": {},
   "source": [
    "### Histograms"
   ]
  },
  {
   "cell_type": "code",
   "execution_count": null,
   "metadata": {},
   "outputs": [],
   "source": [
    "# Bins = [values for bins] ex:[10,20,30,40,50]for age bin\n",
    "plt.hist(x, bins=5, edgecolor = \"black\") \n",
    "\n",
    "plt.legend() # To give legend for plot\n",
    "\n",
    "plt.title('Title name') # Title for plot\n",
    "plt.ylabel('Target name') # Y axis label\n",
    "plt.xlabel('feature name') # X axis Label \n",
    "\n",
    "plt.grid(True) # To Apply grid\n",
    "plt.tight_layout() # To auto adjust layout\n",
    "\n",
    "plt.show() # To show or print plot"
   ]
  },
  {
   "cell_type": "markdown",
   "metadata": {},
   "source": [
    "### Scatter Plots"
   ]
  },
  {
   "cell_type": "code",
   "execution_count": null,
   "metadata": {},
   "outputs": [],
   "source": [
    "plt.scatter(x, y, s =100, c='green', marker = 'X',edgecolors='black') # s : size, c:color \n",
    "\n",
    "plt.title('Title name') # Title for plot\n",
    "plt.ylabel('Target name') # Y axis label\n",
    "plt.xlabel('feature name') # X axis Label \n",
    "\n",
    "plt.tight_layout() # To auto adjust layout\n",
    "\n",
    "plt.show() # To show or print plot"
   ]
  },
  {
   "cell_type": "markdown",
   "metadata": {},
   "source": [
    "### Subplot"
   ]
  },
  {
   "cell_type": "code",
   "execution_count": null,
   "metadata": {},
   "outputs": [],
   "source": [
    "# Here we ar definning subplot with 2 rows and 1 column(It's like dividing plot into 2 horizontaly)\n",
    "# fig for number of figures\n",
    "# (ax1,ax2) for plot name we need provide appropriate number of name based on nrows and ncols\n",
    "fig, (ax1,ax2) = plt.subplot(nrows = 2, ncols = 1)\n",
    "# TO get different plots in different figures\n",
    "\n",
    "# fig1, ax1 = plt.subplot(nrows = 2, ncols = 1)\n",
    "# fig2, ax2 = plt.subplot(nrows = 2, ncols = 1) \n",
    "\n",
    "ax1.plot(x, y1, color = '#444444', label = 'y1 Feature Name') # X and Y for ax1 \n",
    "ax2.plot(x, y2, color= '#5a7d9a', label = 'y2 Feature name') # X and Y for ax2 \n",
    "ax2.plot(x, y3, color = '#444444', label = 'y1 Feature Name') # X and Y for ax2 \n",
    "\n",
    "ax1.legend() # To give legend for ax1 plot\n",
    "ax1.set_title('Title name') # Title for ax1 plot\n",
    "ax1.set_ylabel('Target name') # Y axis ax1 label\n",
    "ax1.set_xlabel('feature name') # X axis ax1 Label \n",
    "\n",
    "ax2.legend() # To give legend for ax2 plot\n",
    "ax2.set_title('Title name') # Title for ax2 plot\n",
    "ax2.set_ylabel('Target name') # Y axis ax2 label\n",
    "ax2.set_xlabel('feature name') # X axis ax2 Label\n",
    "\n",
    "plt.tight_layout() # To auto adjust layout\n",
    "\n",
    "plt.show() # To show or print plot\n",
    "\n",
    "################################################################################################################################\n",
    "temp = []\n",
    "fig, axs = plt.subplots(nrows=3, ncols=2, figsize=(15, 12))\n",
    "plt.suptitle(\" \", fontsize=18, y=0.95)\n",
    "for n,col in enumerate(df[temp]):\n",
    "    # add a new subplot iteratively\n",
    "    ax = plt.subplot(3, 2, n+1)\n",
    "\n",
    "    # filter df and plot ticker on the new subplot axis\n",
    "    sns.countplot(df[col],order = df[col].value_counts().index,ax=ax)\n",
    "\n",
    "    # chart formatting\n",
    "    plt.tight_layout()\n",
    "    ax.set_title(f'Bar Plot : {col.upper()}')\n",
    "plt.show()\n",
    "\n",
    "################################################################################################################################\n",
    "\n",
    "# define subplot grid\n",
    "tem =[]\n",
    "fig, axs = plt.subplots(nrows=3, ncols=2, figsize=(15, 12))\n",
    "plt.subplots_adjust(hspace=0.5)\n",
    "#fig.suptitle(\"Daily closing prices\", fontsize=18, y=0.95)\n",
    "\n",
    "# loop through tickers and axes\n",
    "for var, ax in zip(tem, axs.ravel()):\n",
    "    # filter df for ticker and plot on specified axes\n",
    "    sns.countplot(y= df[var], hue = df['readmitted'],hue_order= df['readmitted'].value_counts().index,ax=ax).set_title(f'{var.capitalize()} of Patient vs Readmission')\n",
    "\n",
    "    # chart formatting\n",
    "    plt.tight_layout()\n",
    "\n",
    "plt.show()\n",
    "\n",
    "#################################################################################################################################\n",
    "\n",
    "## Plot Categorical Data - one plot per attribute\n",
    "fig = plt.figure(figsize=(10,8))\n",
    "tem =[]\n",
    "c=1\n",
    "\n",
    "for col in tem:\n",
    "    plt.subplot(3, 2, c)\n",
    "    plt.title('{}'.format(col))\n",
    "    plt.xlabel(col)\n",
    "    sns.countplot(df[col])\n",
    "    c = c + 1\n",
    "\n",
    "plt.tight_layout()\n",
    "plt.show()    \n",
    "\n",
    "################################################################################################################################\n",
    "\n",
    "#Plot Numerical Data - three plots per attribute\n",
    "\n",
    "#  Numerical Data\n",
    "heart_NUM = ['age', 'trtbps', 'thalachh', 'oldpeak']\n",
    "\n",
    "#  plot Numerical Data\n",
    "a = len(heart_NUM)  # number of rows\n",
    "b = 3  # number of columns\n",
    "c = 1  # initialize plot counter\n",
    "\n",
    "fig = plt.figure(figsize=(10,16))\n",
    "\n",
    "for i in heart_NUM:\n",
    "    plt.subplot(a, b, c)\n",
    "    plt.title('{} (dist), subplot: {},{},{}'.format(i, a, b, c))\n",
    "    plt.xlabel(i)\n",
    "    sns.distplot(df[i])\n",
    "    c = c + 1\n",
    "\n",
    "    plt.subplot(a, b, c)\n",
    "    plt.title('{} (box), subplot: {},{},{}'.format(i, a, b, c))\n",
    "    plt.xlabel(i)\n",
    "    plt.boxplot(x = df[i])\n",
    "    c = c + 1\n",
    "\n",
    "    plt.subplot(a, b, c)\n",
    "    plt.title('{} (scatter), subplot: {},{},{}'.format(i, a, b, c))\n",
    "    plt.xlabel(i)\n",
    "    sns.scatterplot(data = df, x = i, y = 'chol', hue = 'sex')\n",
    "    c = c + 1\n",
    "plt.tight_layout()\n",
    "plt.show()"
   ]
  },
  {
   "cell_type": "markdown",
   "metadata": {},
   "source": [
    "### Pair Plot"
   ]
  },
  {
   "cell_type": "code",
   "execution_count": null,
   "metadata": {},
   "outputs": [],
   "source": [
    "import seaborn as sns\n",
    "sns.pairplot(df)"
   ]
  },
  {
   "cell_type": "markdown",
   "metadata": {},
   "source": [
    "### Co-Relation Heatmap"
   ]
  },
  {
   "cell_type": "code",
   "execution_count": null,
   "metadata": {},
   "outputs": [],
   "source": [
    "plt.figure(figsize=(12,8))\n",
    "sns.heatmap(df.corr(), cmap='coolwarm', annot=True, fmt='.1f', linewidths=.1)\n",
    "plt.show()"
   ]
  },
  {
   "cell_type": "markdown",
   "metadata": {},
   "source": [
    "### Box Plot"
   ]
  },
  {
   "cell_type": "code",
   "execution_count": null,
   "metadata": {},
   "outputs": [],
   "source": [
    "for var in ['features_name']:\n",
    "    sns.boxplot(df[var])\n",
    "    plt.show()"
   ]
  }
 ],
 "metadata": {
  "kernelspec": {
   "display_name": "Python 3.10.5 64-bit",
   "language": "python",
   "name": "python3"
  },
  "language_info": {
   "codemirror_mode": {
    "name": "ipython",
    "version": 3
   },
   "file_extension": ".py",
   "mimetype": "text/x-python",
   "name": "python",
   "nbconvert_exporter": "python",
   "pygments_lexer": "ipython3",
   "version": "3.10.5"
  },
  "orig_nbformat": 4,
  "vscode": {
   "interpreter": {
    "hash": "788a82b91c0336814844834dbe028694862d9bc55d1fd4a8a9273fa14df8fc57"
   }
  }
 },
 "nbformat": 4,
 "nbformat_minor": 2
}
